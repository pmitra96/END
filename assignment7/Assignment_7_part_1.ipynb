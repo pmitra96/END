{
  "nbformat": 4,
  "nbformat_minor": 0,
  "metadata": {
    "accelerator": "GPU",
    "colab": {
      "name": "Assignment 7 part 1",
      "provenance": [],
      "collapsed_sections": []
    },
    "kernelspec": {
      "display_name": "Python 3",
      "name": "python3"
    },
    "language_info": {
      "name": "python"
    }
  },
  "cells": [
    {
      "cell_type": "code",
      "metadata": {
        "id": "n0Ak0FqEWVGS"
      },
      "source": [
        "import pandas as pd\n"
      ],
      "execution_count": null,
      "outputs": []
    },
    {
      "cell_type": "markdown",
      "metadata": {
        "id": "6mL5LXHz-irV"
      },
      "source": [
        "## Reading text files into dataframes to preprocess"
      ]
    },
    {
      "cell_type": "code",
      "metadata": {
        "id": "6IWioD4UgM0K"
      },
      "source": [
        "dictionary = pd.read_csv(r\"/content/dictionary.txt\",sep='|')\n",
        "dictionary.columns = [\"phrase\",\"phrase_id\"]"
      ],
      "execution_count": null,
      "outputs": []
    },
    {
      "cell_type": "code",
      "metadata": {
        "id": "ge-8wVytgUoH"
      },
      "source": [
        "datasetsentence = pd.read_csv(r\"/content/datasetSentences.txt\", sep=\"\\t\")"
      ],
      "execution_count": null,
      "outputs": []
    },
    {
      "cell_type": "code",
      "metadata": {
        "id": "fJylG97DyxXL"
      },
      "source": [
        "sentimentlabel = pd.read_csv(r\"/content/sentiment_labels.txt\", sep=\"|\")"
      ],
      "execution_count": null,
      "outputs": []
    },
    {
      "cell_type": "code",
      "metadata": {
        "colab": {
          "base_uri": "https://localhost:8080/"
        },
        "id": "-9Ru_QK8zP0D",
        "outputId": "4a156bb4-3d78-4aec-e9f8-8a9b189a7e32"
      },
      "source": [
        "sentimentlabel.columns, datasetsentence.columns, dictionary.columns"
      ],
      "execution_count": null,
      "outputs": [
        {
          "output_type": "execute_result",
          "data": {
            "text/plain": [
              "(Index(['phrase ids', 'sentiment values'], dtype='object'),\n",
              " Index(['sentence_index', 'sentence'], dtype='object'),\n",
              " Index(['phrase', 'phrase_id'], dtype='object'))"
            ]
          },
          "metadata": {
            "tags": []
          },
          "execution_count": 6
        }
      ]
    },
    {
      "cell_type": "markdown",
      "metadata": {
        "id": "3jBEzU7w-3Yv"
      },
      "source": [
        "## Joining dataframes appropriately to get sentiment value of each sentence"
      ]
    },
    {
      "cell_type": "code",
      "metadata": {
        "id": "UuT_LF8K2Qie"
      },
      "source": [
        "join_df_1 = pd.merge(datasetsentence, dictionary, how='left', left_on='sentence', right_on='phrase')"
      ],
      "execution_count": null,
      "outputs": []
    },
    {
      "cell_type": "code",
      "metadata": {
        "id": "FcvQBbkqNljH"
      },
      "source": [
        "sentimentlabel.columns = ['phrase_id', 'sentiment_values']"
      ],
      "execution_count": null,
      "outputs": []
    },
    {
      "cell_type": "code",
      "metadata": {
        "id": "aMxIUbpON-M4"
      },
      "source": [
        "join_df_2 = join_df_1.join(sentimentlabel,how=\"left\", lsuffix='l')"
      ],
      "execution_count": null,
      "outputs": []
    },
    {
      "cell_type": "code",
      "metadata": {
        "id": "ueOBNkFPScA5"
      },
      "source": [
        "df = join_df_2[[\"sentence\",'sentiment_values']]"
      ],
      "execution_count": null,
      "outputs": []
    },
    {
      "cell_type": "markdown",
      "metadata": {
        "id": "dH5nvGN8_F0G"
      },
      "source": [
        "## Function to divide sentiment values into classes"
      ]
    },
    {
      "cell_type": "code",
      "metadata": {
        "id": "YFXU0eglSlN_"
      },
      "source": [
        "def classify_sentiment(row):\n",
        "  if 0<row<=0.2:\n",
        "    return 1\n",
        "  elif 0.2<row<=0.4:\n",
        "    return 2\n",
        "  elif 0.4<row<=0.6:\n",
        "    return 3\n",
        "  elif 0.6<row<=0.8:\n",
        "    return 4\n",
        "  return 5"
      ],
      "execution_count": null,
      "outputs": []
    },
    {
      "cell_type": "code",
      "metadata": {
        "colab": {
          "base_uri": "https://localhost:8080/"
        },
        "id": "_JxnET4GS1DG",
        "outputId": "d4365681-e14f-4cdb-ad89-3e250cb63d70"
      },
      "source": [
        "df[\"sentiment_class\"] = df[\"sentiment_values\"].apply(func=classify_sentiment)"
      ],
      "execution_count": null,
      "outputs": [
        {
          "output_type": "stream",
          "text": [
            "/usr/local/lib/python3.7/dist-packages/ipykernel_launcher.py:1: SettingWithCopyWarning: \n",
            "A value is trying to be set on a copy of a slice from a DataFrame.\n",
            "Try using .loc[row_indexer,col_indexer] = value instead\n",
            "\n",
            "See the caveats in the documentation: https://pandas.pydata.org/pandas-docs/stable/user_guide/indexing.html#returning-a-view-versus-a-copy\n",
            "  \"\"\"Entry point for launching an IPython kernel.\n"
          ],
          "name": "stderr"
        }
      ]
    },
    {
      "cell_type": "code",
      "metadata": {
        "id": "Vgmx7ycKS352"
      },
      "source": [
        "df = df[[\"sentence\",\"sentiment_class\"]]"
      ],
      "execution_count": null,
      "outputs": []
    },
    {
      "cell_type": "markdown",
      "metadata": {
        "id": "m1c3GczV_QMI"
      },
      "source": [
        "## Function to get split index"
      ]
    },
    {
      "cell_type": "code",
      "metadata": {
        "id": "NefJABpDZutN"
      },
      "source": [
        "import math as m\n",
        "def get_index(perc,len_data):\n",
        "  return int(perc*len_data)"
      ],
      "execution_count": null,
      "outputs": []
    },
    {
      "cell_type": "code",
      "metadata": {
        "colab": {
          "base_uri": "https://localhost:8080/"
        },
        "id": "akPOPtNBaazA",
        "outputId": "57fef5cf-e621-402e-a549-b018fc01509b"
      },
      "source": [
        "len_data = df.shape[0]\n",
        "split = get_index(0.7,len_data)\n",
        "train,test = df.loc[:split-1], df.loc[split:]\n",
        "train.shape, test.shape\n",
        "#test.reset_index().drop('index',axis=1)"
      ],
      "execution_count": null,
      "outputs": [
        {
          "output_type": "execute_result",
          "data": {
            "text/plain": [
              "((8298, 2), (3557, 2))"
            ]
          },
          "metadata": {
            "tags": []
          },
          "execution_count": 17
        }
      ]
    },
    {
      "cell_type": "markdown",
      "metadata": {
        "id": "Vb7VYW_u_fc8"
      },
      "source": [
        "## Writing the divided dataframes into text files"
      ]
    },
    {
      "cell_type": "code",
      "metadata": {
        "id": "TR9MVlU0iBMp"
      },
      "source": [
        "train.to_csv(\"train.csv\",index=False, header=False)\n",
        "test.to_csv(\"test.csv\", index=False, header=False)"
      ],
      "execution_count": null,
      "outputs": []
    },
    {
      "cell_type": "markdown",
      "metadata": {
        "id": "lfhz_rut_vDr"
      },
      "source": [
        "## Reading train, text files to convert them into list of tuples of tweet,sentiment class"
      ]
    },
    {
      "cell_type": "code",
      "metadata": {
        "id": "7iFzReq-543_"
      },
      "source": [
        "train_list = []\n",
        "with open(r\"/content/train.csv\",\"r\") as file:\n",
        "  for line in file:\n",
        "    train_list.append((line[:-3],int(line[-3:].strip(\"\\n\").strip(\",\"))))"
      ],
      "execution_count": null,
      "outputs": []
    },
    {
      "cell_type": "code",
      "metadata": {
        "id": "jD1OR8l28UyZ"
      },
      "source": [
        "test_list = []\n",
        "with open(r\"/content/test.csv\",\"r\") as file:\n",
        "  for line in file:\n",
        "    test_list.append((line[:-3],int(line[-3:].strip(\"\\n\").strip(\",\"))))"
      ],
      "execution_count": null,
      "outputs": []
    },
    {
      "cell_type": "code",
      "metadata": {
        "id": "8vgneGjkdIJG"
      },
      "source": [
        "import random\n",
        "import torch, torchtext.legacy\n",
        "from torchtext.legacy import data"
      ],
      "execution_count": null,
      "outputs": []
    },
    {
      "cell_type": "code",
      "metadata": {
        "id": "zBes9jbQdQSE"
      },
      "source": [
        "Review = data.Field(sequential = True, tokenize = 'spacy', batch_first =True, include_lengths=True)\n",
        "Label = data.LabelField(tokenize ='spacy', is_target=True, batch_first =True, sequential =False)"
      ],
      "execution_count": null,
      "outputs": []
    },
    {
      "cell_type": "code",
      "metadata": {
        "id": "r39rskFffJ6h"
      },
      "source": [
        "fields = [('reviews', Review),('labels',Label)]"
      ],
      "execution_count": null,
      "outputs": []
    },
    {
      "cell_type": "code",
      "metadata": {
        "id": "L9AAbtRHfQmH"
      },
      "source": [
        "example1 = [data.Example.fromlist([train_list[i][0], train_list[i][1]], fields) for i in range(len(train_list))]\n",
        "example2= [data.Example.fromlist([test_list[i][0], test_list[i][1] ], fields) for i in range(len(test_list))]"
      ],
      "execution_count": null,
      "outputs": []
    },
    {
      "cell_type": "code",
      "metadata": {
        "colab": {
          "base_uri": "https://localhost:8080/"
        },
        "id": "XZhi1CeQqUPW",
        "outputId": "ad6e50a4-ce4d-46e6-e4a8-ebaa0fd88683"
      },
      "source": [
        "SEED= 1\n",
        "torch.manual_seed(SEED)"
      ],
      "execution_count": null,
      "outputs": [
        {
          "output_type": "execute_result",
          "data": {
            "text/plain": [
              "<torch._C.Generator at 0x7f26010edeb0>"
            ]
          },
          "metadata": {
            "tags": []
          },
          "execution_count": 25
        }
      ]
    },
    {
      "cell_type": "code",
      "metadata": {
        "id": "DvW3L4Ghq-J1"
      },
      "source": [
        "train_set = data.Dataset(example1, fields)\n",
        "test_set = data.Dataset(example2, fields)"
      ],
      "execution_count": null,
      "outputs": []
    },
    {
      "cell_type": "code",
      "metadata": {
        "id": "vxj388fDrE7t"
      },
      "source": [
        "device = torch.device(\"cuda\" if torch.cuda.is_available() else \"cpu\")"
      ],
      "execution_count": null,
      "outputs": []
    },
    {
      "cell_type": "code",
      "metadata": {
        "colab": {
          "base_uri": "https://localhost:8080/",
          "height": 334
        },
        "id": "fQfTeTBOrVXB",
        "outputId": "ff0d4bc7-7706-401d-cfbe-84640e54e6e3"
      },
      "source": [
        "train_iterator, test_iterator = data.BucketIterator.splits((train_set,test_set),\n",
        "                                                           batch_sizes=100, \n",
        "                                                           sort_key= lambda x:len(x.reviews),\n",
        "                                                           sort_within_batch=True,\n",
        "                                                           device=device)"
      ],
      "execution_count": null,
      "outputs": [
        {
          "output_type": "error",
          "ename": "TypeError",
          "evalue": "ignored",
          "traceback": [
            "\u001b[0;31m---------------------------------------------------------------------------\u001b[0m",
            "\u001b[0;31mTypeError\u001b[0m                                 Traceback (most recent call last)",
            "\u001b[0;32m<ipython-input-28-1ed7bb82e8b5>\u001b[0m in \u001b[0;36m<module>\u001b[0;34m()\u001b[0m\n\u001b[1;32m      3\u001b[0m                                                            \u001b[0msort_key\u001b[0m\u001b[0;34m=\u001b[0m \u001b[0;32mlambda\u001b[0m \u001b[0mx\u001b[0m\u001b[0;34m:\u001b[0m\u001b[0mlen\u001b[0m\u001b[0;34m(\u001b[0m\u001b[0mx\u001b[0m\u001b[0;34m.\u001b[0m\u001b[0mreviews\u001b[0m\u001b[0;34m)\u001b[0m\u001b[0;34m,\u001b[0m\u001b[0;34m\u001b[0m\u001b[0;34m\u001b[0m\u001b[0m\n\u001b[1;32m      4\u001b[0m                                                            \u001b[0msort_within_batch\u001b[0m\u001b[0;34m=\u001b[0m\u001b[0;32mTrue\u001b[0m\u001b[0;34m,\u001b[0m\u001b[0;34m\u001b[0m\u001b[0;34m\u001b[0m\u001b[0m\n\u001b[0;32m----> 5\u001b[0;31m                                                            device=device)\n\u001b[0m",
            "\u001b[0;32m/usr/local/lib/python3.7/dist-packages/torchtext/legacy/data/iterator.py\u001b[0m in \u001b[0;36msplits\u001b[0;34m(cls, datasets, batch_sizes, **kwargs)\u001b[0m\n\u001b[1;32m     98\u001b[0m             \u001b[0mtrain\u001b[0m \u001b[0;34m=\u001b[0m \u001b[0mi\u001b[0m \u001b[0;34m==\u001b[0m \u001b[0;36m0\u001b[0m\u001b[0;34m\u001b[0m\u001b[0;34m\u001b[0m\u001b[0m\n\u001b[1;32m     99\u001b[0m             ret.append(cls(\n\u001b[0;32m--> 100\u001b[0;31m                 datasets[i], batch_size=batch_sizes[i], train=train, **kwargs))\n\u001b[0m\u001b[1;32m    101\u001b[0m         \u001b[0;32mreturn\u001b[0m \u001b[0mtuple\u001b[0m\u001b[0;34m(\u001b[0m\u001b[0mret\u001b[0m\u001b[0;34m)\u001b[0m\u001b[0;34m\u001b[0m\u001b[0;34m\u001b[0m\u001b[0m\n\u001b[1;32m    102\u001b[0m \u001b[0;34m\u001b[0m\u001b[0m\n",
            "\u001b[0;31mTypeError\u001b[0m: 'int' object is not subscriptable"
          ]
        }
      ]
    },
    {
      "cell_type": "markdown",
      "metadata": {
        "id": "BkvKWp-_ADe3"
      },
      "source": [
        "## Creating BucketIterators for train, test"
      ]
    },
    {
      "cell_type": "code",
      "metadata": {
        "id": "X2HwgNVY1JR9"
      },
      "source": [
        "train_iterator = data.BucketIterator(train_set, \n",
        "                                     batch_size=100, \n",
        "                                     sort_key=lambda x:len(x.reviews), \n",
        "                                     sort_within_batch=True, \n",
        "                                     device=device)\n",
        "test_iterator =  data.BucketIterator(test_set, \n",
        "                                     batch_size=100, \n",
        "                                     sort_key=lambda x:len(x.reviews), \n",
        "                                     sort_within_batch=True, \n",
        "                                     device=device)"
      ],
      "execution_count": null,
      "outputs": []
    },
    {
      "cell_type": "code",
      "metadata": {
        "colab": {
          "base_uri": "https://localhost:8080/"
        },
        "id": "Fn5QtckhsRR3",
        "outputId": "b293c11f-848a-4728-9613-b255afdfdbd6"
      },
      "source": [
        "Review.build_vocab(train_set)\n",
        "Label.build_vocab(train_set)\n",
        "len(Review.vocab), len(Label.vocab)"
      ],
      "execution_count": null,
      "outputs": [
        {
          "output_type": "execute_result",
          "data": {
            "text/plain": [
              "(16865, 5)"
            ]
          },
          "metadata": {
            "tags": []
          },
          "execution_count": 29
        }
      ]
    },
    {
      "cell_type": "markdown",
      "metadata": {
        "id": "tNHC2yLQAJZK"
      },
      "source": [
        "## Creating class for the model"
      ]
    },
    {
      "cell_type": "code",
      "metadata": {
        "id": "xEzg1p2X-Gz3"
      },
      "source": [
        "import torch.nn as nn\n",
        "import torch.nn.functional as F\n",
        " \n",
        "class classifierLSTM(nn.Module):\n",
        "    \n",
        "    # Define all the layers used in model\n",
        "    def __init__(self, vocab_size, embedding_dim, hidden_dim, output_dim, n_layers, dropout):\n",
        "        \n",
        "        super().__init__()          \n",
        "        \n",
        "        # Embedding layer\n",
        "        self.embedding = nn.Embedding(vocab_size, embedding_dim)\n",
        "        \n",
        "        # LSTM layer\n",
        "        self.encoder = nn.LSTM(embedding_dim, \n",
        "                           hidden_dim, \n",
        "                           num_layers=n_layers, \n",
        "                           dropout=dropout,\n",
        "                           batch_first=True,\n",
        "                           bidirectional = False\n",
        "                           )\n",
        "        \n",
        "        #GRU\n",
        "        self.gru = nn.GRU(embedding_dim, hidden_dim, num_layers=n_layers,dropout=dropout, batch_first=True)\n",
        "        self.dropout = nn.Dropout(dropout)\n",
        "        \n",
        "        # Dense layer\n",
        "        self.fc = nn.Linear(hidden_dim, output_dim)\n",
        "        \n",
        "    def forward(self, text, text_lengths):\n",
        "        \n",
        "        # text = [batch size, sent_length]\n",
        "        embedded = self.embedding(text)\n",
        "        # embedded = [batch size, sent_len, emb dim]\n",
        "      \n",
        "        embedded = self.dropout(embedded)\n",
        "        # packed sequence\n",
        "        packed_embedded = nn.utils.rnn.pack_padded_sequence(embedded, text_lengths.cpu(), batch_first=True)\n",
        "        \n",
        "        packed_output, (hidden, cell) = self.encoder(packed_embedded)\n",
        "        #hidden = [batch size, num layers * num directions,hid dim]\n",
        "        #cell = [batch size, num layers * num directions,hid dim]\n",
        "    \n",
        "        # Hidden = [batch size, hid dim * num directions]\n",
        "        dense_outputs = self.fc(hidden)   \n",
        " \n",
        "        dense_outputs = self.dropout(dense_outputs)\n",
        "        \n",
        "        # Final activation function softmax\n",
        "        output = F.softmax(dense_outputs[0], dim=1)\n",
        "            \n",
        "        return output#dense_outputs[0]"
      ],
      "execution_count": null,
      "outputs": []
    },
    {
      "cell_type": "markdown",
      "metadata": {
        "id": "vDY36Eh7ANqp"
      },
      "source": [
        "## Defining hyperparamters"
      ]
    },
    {
      "cell_type": "code",
      "metadata": {
        "id": "hnwf20Im-grh"
      },
      "source": [
        "# Define hyperparameters\n",
        "size_of_vocab = len(Review.vocab)\n",
        "embedding_dim = 300\n",
        "num_hidden_nodes = 100\n",
        "num_output_nodes = 5\n",
        "num_layers = 2\n",
        "dropout = 0.3\n",
        "lr = 1e-3\n",
        "# Instantiate the model\n",
        "model = classifierLSTM(size_of_vocab, embedding_dim, num_hidden_nodes, num_output_nodes, num_layers, dropout = dropout)"
      ],
      "execution_count": null,
      "outputs": []
    },
    {
      "cell_type": "code",
      "metadata": {
        "colab": {
          "base_uri": "https://localhost:8080/"
        },
        "id": "1sw4yNMcARYO",
        "outputId": "c4435c2e-685f-4c14-8e11-4e1b2bb00172"
      },
      "source": [
        "print(model)\n",
        "def count_para(model):\n",
        "  return sum(p.numel() for p in model.parameters() if p.requires_grad)\n",
        "print(\"mode has {} : trainable parameters\".format({count_para}))"
      ],
      "execution_count": null,
      "outputs": [
        {
          "output_type": "stream",
          "text": [
            "classifierLSTM(\n",
            "  (embedding): Embedding(16865, 300)\n",
            "  (encoder): LSTM(300, 100, num_layers=2, batch_first=True, dropout=0.3)\n",
            "  (gru): GRU(300, 100, num_layers=2, batch_first=True, dropout=0.3)\n",
            "  (dropout): Dropout(p=0.3, inplace=False)\n",
            "  (fc): Linear(in_features=100, out_features=5, bias=True)\n",
            ")\n",
            "mode has {<function count_para at 0x7f25583e23b0>} : trainable parameters\n"
          ],
          "name": "stdout"
        }
      ]
    },
    {
      "cell_type": "code",
      "metadata": {
        "id": "ZwPsREDZBqDf"
      },
      "source": [
        "import torch.optim as optim\n",
        "\n",
        "optmizer = optim.Adam(model.parameters(), lr=lr)\n",
        "criterion = nn.CrossEntropyLoss()\n",
        "def binary_loss(preds,y):\n",
        "  _,predictions = torch.max(preds,1)\n",
        "  correct = (predictions ==y).float()\n",
        "  acc = correct.sum()/len(correct)\n",
        "  return acc\n",
        "model = model.to(device)\n",
        "criterion = criterion.to(device)"
      ],
      "execution_count": null,
      "outputs": []
    },
    {
      "cell_type": "code",
      "metadata": {
        "id": "4Fo1vfAxCdto"
      },
      "source": [
        "import torch.nn.functional as F\n",
        "def train(model, iterator, optmizer, criterion):\n",
        "  epoch_loss = 0\n",
        "  epoch_acc = 0\n",
        "  model.train()  \n",
        "  for batch in iterator:\n",
        "    optmizer.zero_grad()\n",
        "    review, review_lengths = batch.reviews\n",
        "    predictions = model(review,review_lengths).squeeze()\n",
        "    loss = criterion(predictions, batch.labels)\n",
        "    acc = binary_loss(predictions,batch.labels)\n",
        "    loss.backward()\n",
        "    optmizer.step()\n",
        "    epoch_loss+=loss.item()\n",
        "    epoch_acc +=acc.item()\n",
        "  return epoch_loss/len(iterator), epoch_acc/len(iterator)"
      ],
      "execution_count": null,
      "outputs": []
    },
    {
      "cell_type": "code",
      "metadata": {
        "id": "0R2w_eduDqM0"
      },
      "source": [
        "def evaluate(model, iterator, criterion, preds_act_tup):\n",
        "  epoch_loss = 0\n",
        "  epoch_acc = 0\n",
        "  model.eval()\n",
        "  with torch.no_grad():\n",
        "    for batch in iterator:\n",
        "      review, review_lengths  = batch.reviews\n",
        "      predictions = model(review, review_lengths).squeeze()\n",
        "      preds_act_tup.append((predictions,batch.labels))\n",
        "      loss = criterion(predictions, batch.labels)\n",
        "      acc= binary_loss(predictions, batch.labels)\n",
        "      \n",
        "      epoch_loss += loss.item()\n",
        "      epoch_acc += acc.item()\n",
        "  return epoch_loss/len(iterator), epoch_acc/len(iterator)\n",
        "\n",
        "\n"
      ],
      "execution_count": null,
      "outputs": []
    },
    {
      "cell_type": "code",
      "metadata": {
        "colab": {
          "base_uri": "https://localhost:8080/"
        },
        "id": "ua1lWPvgmKuR",
        "outputId": "1a62ff43-87f2-4d3e-d47c-df4213ba73bb"
      },
      "source": [
        "EPOCH = 10\n",
        "best_valid_loss = float('inf')\n",
        "\n",
        "for epoch in range(EPOCH):\n",
        "  train_loss, train_acc = train(model,train_iterator, optmizer, criterion)\n",
        "\n",
        "  preds_acc_tup = []\n",
        "\n",
        "  valid_loss, valid_acc = evaluate(model, test_iterator, criterion, preds_acc_tup)\n",
        "  \n",
        "  if valid_loss<best_valid_loss:\n",
        "    best_valid_loss = valid_loss\n",
        "    torch.save(model.state_dict,\"saved_weights.pt\")\n",
        "  \n",
        "  print(f\"Train loss {train_loss:0.3f}  | \\tTrain accuracy {train_acc*100:0.2f}% \")\n",
        "  print(f\"Test loss {valid_loss:0.3f}  | \\tTest accuracy {valid_acc*100:0.2f}%\\n \")"
      ],
      "execution_count": null,
      "outputs": [
        {
          "output_type": "stream",
          "text": [
            "Train loss 1.454  | \tTrain accuracy 49.47% \n",
            "Test loss 1.356  | \tTest accuracy 55.10%\n",
            " \n",
            "Train loss 1.423  | \tTrain accuracy 51.49% \n",
            "Test loss 1.354  | \tTest accuracy 55.10%\n",
            " \n",
            "Train loss 1.425  | \tTrain accuracy 51.49% \n",
            "Test loss 1.354  | \tTest accuracy 55.08%\n",
            " \n",
            "Train loss 1.430  | \tTrain accuracy 51.51% \n",
            "Test loss 1.355  | \tTest accuracy 55.06%\n",
            " \n",
            "Train loss 1.424  | \tTrain accuracy 51.53% \n",
            "Test loss 1.355  | \tTest accuracy 55.06%\n",
            " \n",
            "Train loss 1.423  | \tTrain accuracy 51.58% \n",
            "Test loss 1.355  | \tTest accuracy 55.02%\n",
            " \n",
            "Train loss 1.423  | \tTrain accuracy 51.70% \n",
            "Test loss 1.355  | \tTest accuracy 55.05%\n",
            " \n",
            "Train loss 1.425  | \tTrain accuracy 51.81% \n",
            "Test loss 1.355  | \tTest accuracy 54.97%\n",
            " \n",
            "Train loss 1.426  | \tTrain accuracy 51.83% \n",
            "Test loss 1.355  | \tTest accuracy 54.94%\n",
            " \n",
            "Train loss 1.421  | \tTrain accuracy 51.93% \n",
            "Test loss 1.355  | \tTest accuracy 54.91%\n",
            " \n"
          ],
          "name": "stdout"
        }
      ]
    },
    {
      "cell_type": "markdown",
      "metadata": {
        "id": "vkPeze2CwxOP"
      },
      "source": [
        ""
      ]
    },
    {
      "cell_type": "code",
      "metadata": {
        "id": "RBmWFa8Ywx10"
      },
      "source": [
        "sample = random.sample(test_list,10)\n"
      ],
      "execution_count": null,
      "outputs": []
    },
    {
      "cell_type": "code",
      "metadata": {
        "id": "FGKmhBcDxwCu"
      },
      "source": [
        "import os, pickle\n",
        "with open('tokenizer.pkl', 'wb') as tokens: \n",
        "    pickle.dump(Review.vocab.stoi, tokens)"
      ],
      "execution_count": null,
      "outputs": []
    },
    {
      "cell_type": "code",
      "metadata": {
        "id": "aZZfnWo0abRx"
      },
      "source": [
        "#load weights and tokenizer\n",
        "\n",
        "path='/content/saved_weights.pt'\n",
        "#model.load_state_dict(torch.load(path));\n",
        "model.eval();\n",
        "tokenizer_file = open('./tokenizer.pkl', 'rb')\n",
        "tokenizer = pickle.load(tokenizer_file)\n",
        "\n",
        "#inference \n",
        "\n",
        "import spacy\n",
        "nlp = spacy.load('en')\n",
        "\n",
        "def classify_review(review):\n",
        "    \n",
        "    categories = {0: \"Very Negative\", 1: \"Negative\", 2: \"Neutral\", 3:\"Positive\", 4:\"Very Positive\"}\n",
        "    \n",
        "    # tokenize the review \n",
        "    tokenized = [tok.text for tok in nlp.tokenizer(review)] \n",
        "    # convert to integer sequence using predefined tokenizer dictionary\n",
        "    indexed = [tokenizer[t] for t in tokenized]        \n",
        "    # compute no. of words        \n",
        "    length = [len(indexed)]\n",
        "    # convert to tensor                                    \n",
        "    tensor = torch.LongTensor(indexed).to(device)   \n",
        "    # reshape in form of batch, no. of words           \n",
        "    tensor = tensor.unsqueeze(1).T  \n",
        "    # convert to tensor                          \n",
        "    length_tensor = torch.LongTensor(length)\n",
        "    # Get the model prediction                  \n",
        "    prediction = model(tensor, length_tensor)\n",
        "\n",
        "    _, pred = torch.max(prediction, 1) \n",
        "    \n",
        "    return categories[pred.item()], pred.item()"
      ],
      "execution_count": null,
      "outputs": []
    },
    {
      "cell_type": "code",
      "metadata": {
        "id": "9SnsyRRHL3Zb"
      },
      "source": [
        "def classify_and_print(test_list):\n",
        "  for i in test_list:\n",
        "    x,y = i\n",
        "    cat  = {'1': \"Very Negative\", '2': \"Negative\", '3': \"Neutral\", '4':\"Positive\", '5':\"Very Positive\"}\n",
        "    actual_label = cat[y]\n",
        "    predicted_label_str, predicted_label = classify_review(x) \n",
        "    print(\"sentence: \", x)\n",
        "    print(\"actual_label: \", actual_label, \"\\t\\tpredicted_label: \", predicted_label_str)\n",
        "    print(\"\")"
      ],
      "execution_count": null,
      "outputs": []
    },
    {
      "cell_type": "code",
      "metadata": {
        "colab": {
          "base_uri": "https://localhost:8080/"
        },
        "id": "-tXfZC2yyqeo",
        "outputId": "6a427ba8-a2aa-4578-ff78-ab5def8a51f2"
      },
      "source": [
        "classify_and_print(sample)"
      ],
      "execution_count": null,
      "outputs": [
        {
          "output_type": "stream",
          "text": [
            "sentence:  A yawn-provoking little farm melodrama .\n",
            "actual_label:  Neutral \t\tpredicted_label:  Very Negative\n",
            "\n",
            "sentence:  It 's likely that whatever you thought of the first production -- pro or con -- you 'll likely think of this one .\n",
            "actual_label:  Neutral \t\tpredicted_label:  Very Negative\n",
            "\n",
            "sentence:  The threat implied in the title PokÃ©mon 4ever is terrifying -- like locusts in a horde these things will keep coming .\n",
            "actual_label:  Negative \t\tpredicted_label:  Very Negative\n",
            "\n",
            "sentence:  \"After the setup , the air leaks out of the movie , flattening its momentum with about an hour to go .\"\n",
            "actual_label:  Neutral \t\tpredicted_label:  Very Negative\n",
            "\n",
            "sentence:  \"Even by dumb action-movie standards , Ballistic : Ecks vs. Sever is a dumb action movie .\"\n",
            "actual_label:  Neutral \t\tpredicted_label:  Very Negative\n",
            "\n",
            "sentence:  \"Had anyone here done anything remotely intelligent , we all could have stopped watching long ago .\"\n",
            "actual_label:  Neutral \t\tpredicted_label:  Very Negative\n",
            "\n",
            "sentence:  What 's really sad is to see two Academy Award winning actresses -LRB- and one Academy Award winning actor -RRB- succumb to appearing in this junk that 's TV sitcom material at best .\n",
            "actual_label:  Neutral \t\tpredicted_label:  Very Negative\n",
            "\n",
            "sentence:  \"Human Nature is a goofball movie , in the way that Malkovich was , but it tries too hard .\"\n",
            "actual_label:  Neutral \t\tpredicted_label:  Very Negative\n",
            "\n",
            "sentence:  Some actors steal scenes .\n",
            "actual_label:  Neutral \t\tpredicted_label:  Very Negative\n",
            "\n",
            "sentence:  \"All the characters are stereotypes , and their interaction is numbingly predictable .\"\n",
            "actual_label:  Negative \t\tpredicted_label:  Very Negative\n",
            "\n"
          ],
          "name": "stdout"
        }
      ]
    }
  ]
}